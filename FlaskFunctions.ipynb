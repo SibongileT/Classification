{
 "cells": [
  {
   "cell_type": "code",
   "execution_count": 2,
   "metadata": {},
   "outputs": [],
   "source": [
    "import spotipy\n",
    "from spotipy.oauth2 import SpotifyClientCredentials\n",
    "\n",
    "client_id = 'b69091a51565464da8e8f5315482bfcd'\n",
    "client_secret = 'ff3e70920cdf42d1bb135adba578aa74'\n",
    "client_credentials_manager = SpotifyClientCredentials(client_id=client_id, client_secret=client_secret)\n",
    "sp = spotipy.Spotify(client_credentials_manager=client_credentials_manager) #spotify object to access API"
   ]
  },
  {
   "cell_type": "code",
   "execution_count": 67,
   "metadata": {},
   "outputs": [],
   "source": [
    "def getTrackIDs(artist,track_name):\n",
    "    #searchQuery = track_name + ' ' + artist\n",
    "    searchResults = sp.search(q='artist:{} track:{}'.format(artist, track_name),limit=1)\n",
    "    spotifyId =  searchResults['tracks']['items'][0]['id']\n",
    "    return spotifyId"
   ]
  },
  {
   "cell_type": "code",
   "execution_count": 88,
   "metadata": {},
   "outputs": [],
   "source": [
    "track_id = getTrackIDs('Cardi B','Bodak Yellow')"
   ]
  },
  {
   "cell_type": "code",
   "execution_count": 89,
   "metadata": {},
   "outputs": [],
   "source": [
    "def getTrackFeatures(id):\n",
    "    meta = sp.track(id)\n",
    "    features = sp.audio_features(id)\n",
    "\n",
    "    # meta\n",
    "    name = meta['name']\n",
    "    artist = meta['album']['artists'][0]['name']\n",
    "    length = meta['duration_ms']\n",
    "    popularity = meta['popularity']\n",
    "\n",
    "    # features\n",
    "    acousticness = features[0]['acousticness']\n",
    "    danceability = features[0]['danceability']\n",
    "    energy = features[0]['energy']\n",
    "    instrumentalness = features[0]['instrumentalness']\n",
    "    liveness = features[0]['liveness']\n",
    "    loudness = features[0]['loudness']\n",
    "    speechiness = features[0]['speechiness']\n",
    "    tempo = features[0]['tempo']\n",
    "    time_signature = features[0]['time_signature']\n",
    "\n",
    "    track = [name, artist, length, popularity, danceability, acousticness, danceability, energy, instrumentalness, liveness, loudness, speechiness, tempo, time_signature]\n",
    "    return track"
   ]
  },
  {
   "cell_type": "code",
   "execution_count": 90,
   "metadata": {},
   "outputs": [
    {
     "data": {
      "text/plain": [
       "['Bodak Yellow',\n",
       " 'Cardi B',\n",
       " 223712,\n",
       " 76,\n",
       " 0.926,\n",
       " 0.0659,\n",
       " 0.926,\n",
       " 0.703,\n",
       " 0,\n",
       " 0.231,\n",
       " -6.337,\n",
       " 0.103,\n",
       " 125.022,\n",
       " 4]"
      ]
     },
     "execution_count": 90,
     "metadata": {},
     "output_type": "execute_result"
    }
   ],
   "source": [
    "getTrackFeatures(track_id)"
   ]
  },
  {
   "cell_type": "code",
   "execution_count": 93,
   "metadata": {},
   "outputs": [],
   "source": [
    "def get_track_audio(track_id):\n",
    "    song_uri = 'spotify:track:{}'.format(track_id)\n",
    "\n",
    "    track = sp.track(song_uri)\n",
    "    print('track    : ' + track['name'])\n",
    "    print('audio    : ' + track['preview_url'])\n",
    "    print('cover art: ' + track['album']['images'][0]['url'])\n",
    "    print()"
   ]
  },
  {
   "cell_type": "code",
   "execution_count": 94,
   "metadata": {},
   "outputs": [
    {
     "name": "stdout",
     "output_type": "stream",
     "text": [
      "{'album': {'album_type': 'album', 'artists': [{'external_urls': {'spotify': 'https://open.spotify.com/artist/4kYSro6naA4h99UJvo89HB'}, 'href': 'https://api.spotify.com/v1/artists/4kYSro6naA4h99UJvo89HB', 'id': '4kYSro6naA4h99UJvo89HB', 'name': 'Cardi B', 'type': 'artist', 'uri': 'spotify:artist:4kYSro6naA4h99UJvo89HB'}], 'available_markets': ['AD', 'AE', 'AL', 'AR', 'AT', 'AU', 'BA', 'BE', 'BG', 'BH', 'BO', 'BR', 'BY', 'CA', 'CH', 'CL', 'CO', 'CR', 'CY', 'CZ', 'DE', 'DK', 'DO', 'DZ', 'EC', 'EE', 'EG', 'ES', 'FI', 'FR', 'GB', 'GR', 'GT', 'HK', 'HN', 'HR', 'HU', 'ID', 'IE', 'IL', 'IN', 'IS', 'IT', 'JO', 'JP', 'KW', 'KZ', 'LB', 'LI', 'LT', 'LU', 'LV', 'MA', 'MC', 'MD', 'ME', 'MK', 'MT', 'MX', 'MY', 'NI', 'NL', 'NO', 'NZ', 'OM', 'PA', 'PE', 'PH', 'PL', 'PS', 'PT', 'PY', 'QA', 'RO', 'RS', 'RU', 'SA', 'SE', 'SG', 'SI', 'SK', 'SV', 'TH', 'TN', 'TR', 'TW', 'UA', 'US', 'UY', 'VN', 'XK', 'ZA'], 'external_urls': {'spotify': 'https://open.spotify.com/album/4KdtEKjY3Gi0mKiSdy96ML'}, 'href': 'https://api.spotify.com/v1/albums/4KdtEKjY3Gi0mKiSdy96ML', 'id': '4KdtEKjY3Gi0mKiSdy96ML', 'images': [{'height': 640, 'url': 'https://i.scdn.co/image/ab67616d0000b273a0caffda54afd0a65995bbab', 'width': 640}, {'height': 300, 'url': 'https://i.scdn.co/image/ab67616d00001e02a0caffda54afd0a65995bbab', 'width': 300}, {'height': 64, 'url': 'https://i.scdn.co/image/ab67616d00004851a0caffda54afd0a65995bbab', 'width': 64}], 'name': 'Invasion of Privacy', 'release_date': '2018-04-06', 'release_date_precision': 'day', 'total_tracks': 13, 'type': 'album', 'uri': 'spotify:album:4KdtEKjY3Gi0mKiSdy96ML'}, 'artists': [{'external_urls': {'spotify': 'https://open.spotify.com/artist/4kYSro6naA4h99UJvo89HB'}, 'href': 'https://api.spotify.com/v1/artists/4kYSro6naA4h99UJvo89HB', 'id': '4kYSro6naA4h99UJvo89HB', 'name': 'Cardi B', 'type': 'artist', 'uri': 'spotify:artist:4kYSro6naA4h99UJvo89HB'}], 'available_markets': ['AD', 'AE', 'AL', 'AR', 'AT', 'AU', 'BA', 'BE', 'BG', 'BH', 'BO', 'BR', 'BY', 'CA', 'CH', 'CL', 'CO', 'CR', 'CY', 'CZ', 'DE', 'DK', 'DO', 'DZ', 'EC', 'EE', 'EG', 'ES', 'FI', 'FR', 'GB', 'GR', 'GT', 'HK', 'HN', 'HR', 'HU', 'ID', 'IE', 'IL', 'IN', 'IS', 'IT', 'JO', 'JP', 'KW', 'KZ', 'LB', 'LI', 'LT', 'LU', 'LV', 'MA', 'MC', 'MD', 'ME', 'MK', 'MT', 'MX', 'MY', 'NI', 'NL', 'NO', 'NZ', 'OM', 'PA', 'PE', 'PH', 'PL', 'PS', 'PT', 'PY', 'QA', 'RO', 'RS', 'RU', 'SA', 'SE', 'SG', 'SI', 'SK', 'SV', 'TH', 'TN', 'TR', 'TW', 'UA', 'US', 'UY', 'VN', 'XK', 'ZA'], 'disc_number': 1, 'duration_ms': 223712, 'explicit': True, 'external_ids': {'isrc': 'USAT21701762'}, 'external_urls': {'spotify': 'https://open.spotify.com/track/6KBYefIoo7KydImq1uUQlL'}, 'href': 'https://api.spotify.com/v1/tracks/6KBYefIoo7KydImq1uUQlL', 'id': '6KBYefIoo7KydImq1uUQlL', 'is_local': False, 'name': 'Bodak Yellow', 'popularity': 76, 'preview_url': 'https://p.scdn.co/mp3-preview/cab6e91217590b37cc254585f3f951c5a5280375?cid=b69091a51565464da8e8f5315482bfcd', 'track_number': 4, 'type': 'track', 'uri': 'spotify:track:6KBYefIoo7KydImq1uUQlL'}\n",
      "track    : Bodak Yellow\n",
      "audio    : https://p.scdn.co/mp3-preview/cab6e91217590b37cc254585f3f951c5a5280375?cid=b69091a51565464da8e8f5315482bfcd\n",
      "cover art: https://i.scdn.co/image/ab67616d0000b273a0caffda54afd0a65995bbab\n",
      "\n"
     ]
    }
   ],
   "source": [
    "get_track_audio(track_id)"
   ]
  },
  {
   "cell_type": "code",
   "execution_count": null,
   "metadata": {},
   "outputs": [],
   "source": []
  }
 ],
 "metadata": {
  "kernelspec": {
   "display_name": "Python 3",
   "language": "python",
   "name": "python3"
  },
  "language_info": {
   "codemirror_mode": {
    "name": "ipython",
    "version": 3
   },
   "file_extension": ".py",
   "mimetype": "text/x-python",
   "name": "python",
   "nbconvert_exporter": "python",
   "pygments_lexer": "ipython3",
   "version": "3.8.5"
  }
 },
 "nbformat": 4,
 "nbformat_minor": 4
}
