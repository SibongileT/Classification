{
 "cells": [
  {
   "cell_type": "code",
   "execution_count": null,
   "metadata": {},
   "outputs": [],
   "source": [
    "def get_metrics(X,y,model): \n",
    "    model = model.fit(X,y)\n",
    "    y_pred = model.predict(X)\n",
    "    print('{model} train score: {:.3f}'.format(model=model,model.score(X_train_scaled,y_train)))\n",
    "    print('{model} test score: {:.3f}'.format(model = model.score(X_val_scaled,y_val)))\n",
    "    fig, ax = plt.subplots(figsize=(7, 7))\n",
    "    print(plot_confusion_matrix(lr, X_val_scaled, y_val, ax=ax);)"
   ]
  }
 ],
 "metadata": {
  "kernelspec": {
   "display_name": "Python 3",
   "language": "python",
   "name": "python3"
  },
  "language_info": {
   "codemirror_mode": {
    "name": "ipython",
    "version": 3
   },
   "file_extension": ".py",
   "mimetype": "text/x-python",
   "name": "python",
   "nbconvert_exporter": "python",
   "pygments_lexer": "ipython3",
   "version": "3.8.5"
  }
 },
 "nbformat": 4,
 "nbformat_minor": 4
}
